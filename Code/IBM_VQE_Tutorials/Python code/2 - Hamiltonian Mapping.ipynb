{
 "cells": [
  {
   "cell_type": "code",
   "execution_count": 1,
   "metadata": {},
   "outputs": [],
   "source": [
    "import numpy as np\n",
    "from qiskit import Aer\n",
    "from qiskit.aqua import QuantumInstance\n",
    "from qiskit.aqua.algorithms import VQE, ExactEigensolver\n",
    "from qiskit.aqua.operators import Z2Symmetries\n",
    "from qiskit.aqua.components.optimizers import COBYLA\n",
    "from qiskit.chemistry import FermionicOperator\n",
    "from qiskit.chemistry.drivers import PySCFDriver, UnitsType\n",
    "from qiskit.chemistry.components.variational_forms import UCCSD\n",
    "from qiskit.chemistry.components.initial_states import HartreeFock"
   ]
  },
  {
   "cell_type": "markdown",
   "metadata": {},
   "source": [
    "### Step 1: Define a molecule\n",
    "Using the sto3g basis with the PySCF driver as an example, we can describe a molecule."
   ]
  },
  {
   "cell_type": "code",
   "execution_count": 2,
   "metadata": {},
   "outputs": [],
   "source": [
    "driver = PySCFDriver(atom='Li .0 .0 .0; H .0 .0 1.6', unit=UnitsType.ANGSTROM,\n",
    "                     charge=0, spin=0, basis='sto3g')\n",
    "molecule = driver.run()"
   ]
  },
  {
   "cell_type": "markdown",
   "metadata": {},
   "source": [
    "### Step 2: Prepare qubit Hamiltonian\n",
    "Here, we setup the molecular orbitals to be considered and can reduce the problem size when we map to the qubit Hamiltonian. \n",
    "\n",
    "We are also able to define the mapping type for the qubit Hamiltonian, which - in some cases - allows one to further reduce the problem size."
   ]
  },
  {
   "cell_type": "code",
   "execution_count": 3,
   "metadata": {},
   "outputs": [],
   "source": [
    "map_type = 'parity'"
   ]
  },
  {
   "cell_type": "code",
   "execution_count": 4,
   "metadata": {},
   "outputs": [],
   "source": [
    "# please be aware that the idx here with respective to original idx\n",
    "freeze_list = [0]\n",
    "remove_list = [-3, -2] # negative number denotes the reverse order"
   ]
  },
  {
   "cell_type": "code",
   "execution_count": 5,
   "metadata": {},
   "outputs": [
    {
     "name": "stdout",
     "output_type": "stream",
     "text": [
      "HF energy: -8.854072040283647\n",
      "# of electrons: 4\n",
      "# of spin orbitals: 12\n"
     ]
    }
   ],
   "source": [
    "h1 = molecule.one_body_integrals\n",
    "h2 = molecule.two_body_integrals\n",
    "nuclear_repulsion_energy = molecule.nuclear_repulsion_energy\n",
    "\n",
    "num_particles = molecule.num_alpha + molecule.num_beta\n",
    "num_spin_orbitals = molecule.num_orbitals * 2\n",
    "print(\"HF energy: {}\".format(molecule.hf_energy - molecule.nuclear_repulsion_energy))\n",
    "print(\"# of electrons: {}\".format(num_particles))\n",
    "print(\"# of spin orbitals: {}\".format(num_spin_orbitals))"
   ]
  },
  {
   "cell_type": "code",
   "execution_count": 6,
   "metadata": {
    "scrolled": false
   },
   "outputs": [
    {
     "name": "stdout",
     "output_type": "stream",
     "text": [
      "Representation: paulis, qubits: 4, size: 100\n",
      "IIII\t(-0.2076593350197093+0j)\n",
      "IIIZ\t(-0.09376337484626251+0j)\n",
      "IIZX\t(-0.0031775814548396244+0j)\n",
      "IIIX\t(0.0031775814548396244+0j)\n",
      "IIXX\t(-0.0012513965999699584+0j)\n",
      "IIYY\t(0.0012513965999699584+0j)\n",
      "IIZZ\t(-0.21162509515110095+0j)\n",
      "IIXZ\t(0.01920053386310993+0j)\n",
      "IIXI\t(0.01920053386310993+0j)\n",
      "IIZI\t(0.358102699457702+0j)\n",
      "IZII\t(0.09376337484626249+0j)\n",
      "ZXII\t(0.003177581454839621+0j)\n",
      "IXII\t(0.003177581454839621+0j)\n",
      "XXII\t(-0.0012513965999699714+0j)\n",
      "YYII\t(0.0012513965999699714+0j)\n",
      "ZZII\t(-0.21162509515110095+0j)\n",
      "XZII\t(-0.019200533863109923+0j)\n",
      "XIII\t(0.019200533863109923+0j)\n",
      "ZIII\t(-0.358102699457702+0j)\n",
      "IZIZ\t(-0.12182774215821472+0j)\n",
      "IZZX\t(0.012144897228064262+0j)\n",
      "IZIX\t(-0.012144897228064262+0j)\n",
      "IZXX\t(0.03169874598734438+0j)\n",
      "IZYY\t(-0.03169874598734438+0j)\n",
      "IXIZ\t(0.012144897228064262+0j)\n",
      "ZXIZ\t(0.012144897228064262+0j)\n",
      "IXZX\t(-0.003265995499658126+0j)\n",
      "ZXZX\t(-0.003265995499658126+0j)\n",
      "IXIX\t(0.003265995499658126+0j)\n",
      "ZXIX\t(0.003265995499658126+0j)\n",
      "IXXX\t(-0.00865015686060984+0j)\n",
      "ZXXX\t(-0.00865015686060984+0j)\n",
      "IXYY\t(0.00865015686060984+0j)\n",
      "ZXYY\t(0.00865015686060984+0j)\n",
      "YYIZ\t(0.03169874598734438+0j)\n",
      "XXIZ\t(-0.03169874598734438+0j)\n",
      "YYZX\t(-0.00865015686060984+0j)\n",
      "XXZX\t(0.00865015686060984+0j)\n",
      "YYIX\t(0.00865015686060984+0j)\n",
      "XXIX\t(-0.00865015686060984+0j)\n",
      "YYXX\t(-0.030981613344629486+0j)\n",
      "XXXX\t(0.030981613344629486+0j)\n",
      "YYYY\t(0.030981613344629486+0j)\n",
      "XXYY\t(-0.030981613344629486+0j)\n",
      "ZZIZ\t(0.05590251078515892+0j)\n",
      "ZZZX\t(0.001871042751416111+0j)\n",
      "ZZIX\t(-0.001871042751416111+0j)\n",
      "ZZXX\t(0.0031040041160733172+0j)\n",
      "ZZYY\t(-0.0031040041160733172+0j)\n",
      "XIIZ\t(0.01284172318075686+0j)\n",
      "XZIZ\t(-0.01284172318075686+0j)\n",
      "XIZX\t(-0.002352152173244469+0j)\n",
      "XZZX\t(0.002352152173244469+0j)\n",
      "XIIX\t(0.002352152173244469+0j)\n",
      "XZIX\t(-0.002352152173244469+0j)\n",
      "XIXX\t(-0.007975908750564321+0j)\n",
      "XZXX\t(0.007975908750564321+0j)\n",
      "XIYY\t(0.007975908750564321+0j)\n",
      "XZYY\t(-0.007975908750564321+0j)\n",
      "ZIIZ\t(0.11346110712685431+0j)\n",
      "ZIZX\t(-0.010838363828740288+0j)\n",
      "ZIIX\t(0.010838363828740288+0j)\n",
      "ZIXX\t(-0.03355135311123839+0j)\n",
      "ZIYY\t(0.03355135311123839+0j)\n",
      "IZZZ\t(-0.05590251078515892+0j)\n",
      "IZXZ\t(-0.012841723180756857+0j)\n",
      "IZXI\t(-0.012841723180756857+0j)\n",
      "IXZZ\t(-0.001871042751416111+0j)\n",
      "ZXZZ\t(-0.001871042751416111+0j)\n",
      "IXXZ\t(0.0023521521732444693+0j)\n",
      "ZXXZ\t(0.0023521521732444693+0j)\n",
      "IXXI\t(0.0023521521732444693+0j)\n",
      "ZXXI\t(0.0023521521732444693+0j)\n",
      "YYZZ\t(-0.0031040041160733172+0j)\n",
      "XXZZ\t(0.0031040041160733172+0j)\n",
      "YYXZ\t(0.00797590875056432+0j)\n",
      "XXXZ\t(-0.00797590875056432+0j)\n",
      "YYXI\t(0.00797590875056432+0j)\n",
      "XXXI\t(-0.00797590875056432+0j)\n",
      "ZZZZ\t(0.08447056807294584+0j)\n",
      "ZZXZ\t(-0.008994911953942171+0j)\n",
      "ZZXI\t(-0.008994911953942171+0j)\n",
      "XIZZ\t(-0.00899491195394217+0j)\n",
      "XZZZ\t(0.00899491195394217+0j)\n",
      "XIXZ\t(0.006612047066151932+0j)\n",
      "XZXZ\t(-0.006612047066151932+0j)\n",
      "XIXI\t(0.006612047066151932+0j)\n",
      "XZXI\t(-0.006612047066151932+0j)\n",
      "ZIZZ\t(0.060358912810780964+0j)\n",
      "ZIXZ\t(0.011019231644712297+0j)\n",
      "ZIXI\t(0.011019231644712297+0j)\n",
      "IZZI\t(0.11346110712685431+0j)\n",
      "IXZI\t(-0.010838363828740288+0j)\n",
      "ZXZI\t(-0.010838363828740288+0j)\n",
      "YYZI\t(-0.03355135311123839+0j)\n",
      "XXZI\t(0.03355135311123839+0j)\n",
      "ZZZI\t(-0.060358912810780964+0j)\n",
      "XIZI\t(-0.011019231644712297+0j)\n",
      "XZZI\t(0.011019231644712297+0j)\n",
      "ZIZI\t(-0.11344680300367214+0j)\n",
      "\n"
     ]
    }
   ],
   "source": [
    "# prepare full idx of freeze_list and remove_list\n",
    "# convert all negative idx to positive\n",
    "remove_list = [x % molecule.num_orbitals for x in remove_list]\n",
    "freeze_list = [x % molecule.num_orbitals for x in freeze_list]\n",
    "# update the idx in remove_list of the idx after frozen, since the idx of orbitals are changed after freezing\n",
    "remove_list = [x - len(freeze_list) for x in remove_list]\n",
    "remove_list += [x + molecule.num_orbitals - len(freeze_list)  for x in remove_list]\n",
    "freeze_list += [x + molecule.num_orbitals for x in freeze_list]\n",
    "\n",
    "# prepare fermionic hamiltonian with orbital freezing and eliminating, and then map to qubit hamiltonian\n",
    "# and if PARITY mapping is selected, reduction qubits\n",
    "energy_shift = 0.0\n",
    "qubit_reduction = True if map_type == 'parity' else False\n",
    "\n",
    "ferOp = FermionicOperator(h1=h1, h2=h2)\n",
    "if len(freeze_list) > 0:\n",
    "    ferOp, energy_shift = ferOp.fermion_mode_freezing(freeze_list)\n",
    "    num_spin_orbitals -= len(freeze_list)\n",
    "    num_particles -= len(freeze_list)\n",
    "if len(remove_list) > 0:\n",
    "    ferOp = ferOp.fermion_mode_elimination(remove_list)\n",
    "    num_spin_orbitals -= len(remove_list)\n",
    "\n",
    "qubitOp = ferOp.mapping(map_type=map_type, threshold=0.00000001)\n",
    "qubitOp = Z2Symmetries.two_qubit_reduction(qubitOp, num_particles) if qubit_reduction else qubitOp\n",
    "qubitOp.chop(10**-10)\n",
    "\n",
    "print(qubitOp)\n",
    "print(qubitOp.print_details())"
   ]
  },
  {
   "cell_type": "code",
   "execution_count": null,
   "metadata": {},
   "outputs": [],
   "source": []
  }
 ],
 "metadata": {
  "kernelspec": {
   "display_name": "Python 3",
   "language": "python",
   "name": "python3"
  },
  "language_info": {
   "codemirror_mode": {
    "name": "ipython",
    "version": 3
   },
   "file_extension": ".py",
   "mimetype": "text/x-python",
   "name": "python",
   "nbconvert_exporter": "python",
   "pygments_lexer": "ipython3",
   "version": "3.7.4"
  },
  "varInspector": {
   "cols": {
    "lenName": 16,
    "lenType": 16,
    "lenVar": 40
   },
   "kernels_config": {
    "python": {
     "delete_cmd_postfix": "",
     "delete_cmd_prefix": "del ",
     "library": "var_list.py",
     "varRefreshCmd": "print(var_dic_list())"
    },
    "r": {
     "delete_cmd_postfix": ") ",
     "delete_cmd_prefix": "rm(",
     "library": "var_list.r",
     "varRefreshCmd": "cat(var_dic_list()) "
    }
   },
   "types_to_exclude": [
    "module",
    "function",
    "builtin_function_or_method",
    "instance",
    "_Feature"
   ],
   "window_display": false
  }
 },
 "nbformat": 4,
 "nbformat_minor": 2
}
